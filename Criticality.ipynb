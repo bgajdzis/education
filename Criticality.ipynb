{
 "cells": [
  {
   "cell_type": "code",
   "execution_count": null,
   "metadata": {
    "collapsed": true,
    "scrolled": false
   },
   "outputs": [],
   "source": [
    "%matplotlib qt\n",
    "import numpy as np\n",
    "import matplotlib.pyplot as plt\n",
    "from matplotlib import animation, rc\n",
    "from IPython.display import HTML, display\n",
    "\n",
    "plt.ioff()"
   ]
  },
  {
   "cell_type": "raw",
   "metadata": {},
   "source": [
    "Olami–Feder–Christensen model"
   ]
  },
  {
   "cell_type": "code",
   "execution_count": null,
   "metadata": {
    "collapsed": true
   },
   "outputs": [],
   "source": [
    "def ofc_update(avalanche,ofc_state,avhistory,t):\n",
    "    retain = 0.25\n",
    "    if not avalanche:\n",
    "        kmax = np.amax(ofc_state)\n",
    "        ofc_state += (1 -kmax)\n",
    "        t += (1-kmax)\n",
    "        avalanche = True\n",
    "        avhistory = np.zeros(ofc_state.shape)\n",
    "        return avalanche, ofc_state, avhistory,t\n",
    "    if avalanche:\n",
    "        mask_state = ofc_state * (ofc_state >= 1)\n",
    "        avhistory = avhistory + (ofc_state >= 1)\n",
    "        roll1 = np.pad(mask_state[1:,:],[(0,1),(0,0)],'constant')\n",
    "        roll2 = np.pad(mask_state[:-1,:],[(1,0),(0,0)],'constant') \n",
    "        roll3 = np.pad(mask_state[:,1:],[(0,0),(0,1)],'constant') \n",
    "        roll4 = np.pad(mask_state[:,:-1],[(0,0),(1,0)],'constant')\n",
    "        critsites = retain*(roll1+roll2+roll3+roll4)\n",
    "        ofc_state[ofc_state>=1]=0\n",
    "        ofc_state += critsites\n",
    "        if np.amax(ofc_state) < 1:\n",
    "            avalanche = False\n",
    "        return avalanche, ofc_state, avhistory,t"
   ]
  },
  {
   "cell_type": "code",
   "execution_count": null,
   "metadata": {},
   "outputs": [],
   "source": [
    "L = 20\n",
    "ofc_state = np.random.rand(L,L)\n",
    "avhistory = np.zeros(ofc_state.shape)\n",
    "avalanche = False\n",
    "ofc_avmags = np.zeros(500)\n",
    "aftershocks_t=[0]\n",
    "aftershocks_m=[0]\n",
    "t=0\n",
    "\n",
    "plt.close()\n",
    "fig = plt.figure()\n",
    "plt.subplot2grid((2,2),(0,0))\n",
    "im1=plt.imshow(ofc_state, animated=True, cmap='plasma', interpolation='none')\n",
    "plt.subplot2grid((2,2),(0,1))\n",
    "im2=plt.imshow(ofc_state, animated=True, cmap='plasma', interpolation='none', vmax=4)\n",
    "ax1 = plt.subplot2grid((2,2),(1,0))\n",
    "plot1, = plt.plot([],[],'bx ')\n",
    "ax1.set_xlim(0,2)\n",
    "ax1.set_ylim(0,15)\n",
    "ax2 = plt.subplot2grid((2,2),(1,1))\n",
    "plot2, = plt.plot(np.random.rand(500),'bx ')\n",
    "\n",
    "def updatefig(i):\n",
    "    global avalanche\n",
    "    global ofc_state\n",
    "    global avhistory\n",
    "    global avmags\n",
    "    global aftershocks\n",
    "    global t\n",
    "    avalanche,ofc_state,avhistory,t = ofc_update(avalanche,ofc_state,avhistory,t)\n",
    "    if not avalanche:\n",
    "        avmag = int(np.sum(avhistory))\n",
    "        ofc_avmags[avmag] += 1\n",
    "        aftershocks_t.append(t)\n",
    "        aftershocks_m.append(avmag)\n",
    "    im1.set_array(ofc_state)\n",
    "    im2.set_array(avhistory)  \n",
    "    plot1.set_data(aftershocks_t[-10:],aftershocks_m[-10:])\n",
    "    ax1.set_ylim([0,np.amax(aftershocks_m[-10:])+1])\n",
    "    ax1.set_xlim([np.amin(aftershocks_t[-10:])-0.001,np.amax(aftershocks_t[-10:])+0.001])\n",
    "    plot2.set_ydata(ofc_avmags)\n",
    "    ax2.set_ylim([0,np.amax(ofc_avmags)+1])\n",
    "    return (im1,im2,plot1,ax1,plot2,ax2,)"
   ]
  },
  {
   "cell_type": "code",
   "execution_count": null,
   "metadata": {
    "scrolled": true
   },
   "outputs": [],
   "source": [
    "anim = animation.FuncAnimation(fig, updatefig, frames='none', interval=100)\n",
    "plt.show()"
   ]
  },
  {
   "cell_type": "raw",
   "metadata": {},
   "source": [
    "Bak-Sneppen Model"
   ]
  },
  {
   "cell_type": "code",
   "execution_count": null,
   "metadata": {
    "collapsed": true
   },
   "outputs": [],
   "source": [
    "def bs_update(avalanche,bs_state,threshold,avlength):\n",
    "    avlength+=1\n",
    "    fmin = np.amin(bs_state)\n",
    "    i, = np.where(bs_state == fmin)\n",
    "    changed=[(i[0]+1)%L,i[0],i[0]-1]\n",
    "    bs_state[changed] = np.random.normal()\n",
    "    if np.amin(bs_state) < threshold:\n",
    "        avalanche = True\n",
    "        return avalanche,bs_state,threshold,changed,avlength\n",
    "    else:\n",
    "        threshold = np.amin(bs_state)\n",
    "        avalanche = False\n",
    "        return avalanche,bs_state,threshold,changed,avlength"
   ]
  },
  {
   "cell_type": "code",
   "execution_count": null,
   "metadata": {
    "collapsed": true
   },
   "outputs": [],
   "source": [
    "L = 200\n",
    "bs_state = np.random.rand(L)\n",
    "threshold = 0\n",
    "avalanche = False\n",
    "bs_avmags = np.zeros(500)\n",
    "avlenght = 0\n",
    "pophistory = np.zeros((1000,L))\n",
    "\n",
    "plt.close()\n",
    "fig = plt.figure()\n",
    "plt.subplot2grid((2,2),(0,0))\n",
    "line,=plt.plot(bs_state,'bx ')\n",
    "line2 = plt.axhline(threshold,color='r')\n",
    "plt.subplot2grid((2,2),(0,1))\n",
    "im2=plt.imshow(np.random.rand(1000,L), animated='True', cmap='plasma_r', interpolation='bilinear',aspect='auto',vmax=1000)\n",
    "ax1 = plt.subplot2grid((2,2),(1,0),colspan=2)\n",
    "plot1, = plt.plot(np.random.rand(500),'bx ')\n",
    "\n",
    "def updatefig(i):\n",
    "    global avalanche\n",
    "    global bs_state\n",
    "    global threshold\n",
    "    global avlength\n",
    "    global avmags\n",
    "    global pophistory\n",
    "    avalanche,bs_state,threshold,changed,avlength = bs_update(avalanche,bs_state,threshold,avlength)\n",
    "    pophistory[:-1,:] = pophistory[1:,:]\n",
    "    pophistory[-1,:] = pophistory[-1,:] + 1\n",
    "    pophistory[-1,changed] = 0\n",
    "    if not avalanche:\n",
    "        bs_avmags[avlength] += 1\n",
    "        avlength = 0\n",
    "    line.set_ydata(bs_state)\n",
    "    line2.set_ydata(threshold)\n",
    "    im2.set_array(pophistory)\n",
    "    plot1.set_ydata(bs_avmags)\n",
    "    ax1.set_ylim([0,np.amax(bs_avmags)+1])\n",
    "    return (line,line2,im2,ax1,plot1,)"
   ]
  },
  {
   "cell_type": "code",
   "execution_count": null,
   "metadata": {},
   "outputs": [],
   "source": [
    "anim = animation.FuncAnimation(fig, updatefig, frames='none', interval=100)\n",
    "plt.show()"
   ]
  },
  {
   "cell_type": "code",
   "execution_count": null,
   "metadata": {},
   "outputs": [],
   "source": [
    "fig = plt.figure()\n",
    "plt.subplot2grid((1,2),(0,0))\n",
    "plt.loglog(ofc_avmags,'bx ')\n",
    "plt.subplot2grid((1,2),(0,1))\n",
    "plt.loglog(bs_avmags,'bx ')\n",
    "plt.show()"
   ]
  }
 ],
 "metadata": {
  "kernelspec": {
   "display_name": "Python 3",
   "language": "python",
   "name": "python3"
  },
  "language_info": {
   "codemirror_mode": {
    "name": "ipython",
    "version": 3
   },
   "file_extension": ".py",
   "mimetype": "text/x-python",
   "name": "python",
   "nbconvert_exporter": "python",
   "pygments_lexer": "ipython3",
   "version": "3.6.1"
  }
 },
 "nbformat": 4,
 "nbformat_minor": 2
}
