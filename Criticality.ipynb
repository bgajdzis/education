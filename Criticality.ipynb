{
 "cells": [
  {
   "cell_type": "code",
   "execution_count": null,
   "metadata": {
    "collapsed": true,
    "scrolled": false
   },
   "outputs": [],
   "source": [
    "%matplotlib nbagg\n",
    "import numpy as np\n",
    "import matplotlib.pyplot as plt\n",
    "from matplotlib import animation, rc\n",
    "from IPython.display import HTML, display\n",
    "import matplotlib.image as img\n",
    "\n",
    "plt.ioff()"
   ]
  },
  {
   "cell_type": "raw",
   "metadata": {},
   "source": [
    "Model Olami–Feder–Christensen\n",
    "\n",
    "Ten model ma za zadanie symulować zachowanie układu płyt tektonicznych znajdujących się pod wpływem jednostajnie rosnącego napręzenia.\n",
    "\n",
    "Składa się z kwadratowej sieci węzłów, z których każdy posiada pewną wartość naprężenia - początkowo losową - która stale rośnie w równomiernym tempie dla każdego węzła.\n",
    "\n",
    "Gdy naprężenie w którymś węźle układu przekroczy wartość 1 jednostki, następuje trzęsienie ziemi - naprężenie na tym węźle zostaje wyzerowane, a jego wartość \"rozprasza\" się po sąsiadach, proporcjonalnie do parametru zachowania - w kodzie jest to zmienna \"retain\". Następnie, jeżeli na którymś z sąsiednich węzłów naprężenie przekracza 1 jednostkę, powtarzamy ten proces. W ten sposób trzęsienie ziemi rozprzestrzenia się kaskadowo, być może po całym obszarze modelu. Taką kaskadę uznajemy za zachodzącą natychmiastowo.\n",
    "\n",
    "Kiedy naprężenia na wszystkich węzłach są niższe niż 1 jednostka, uznajemy kaskadę za zakończoną i przygotowujemy się do modelowania następnej - podnosimy naprężenia na wszystkich węzłach o taką wartość k, że przynajmniej na jednym z nich wartość naprężenia dojdzie do 1 jednostki. Jednocześnie aktualizujemy zmienną czasową - napięcie rośnie jednostajnie, a umowne jednostki są dobrane tak, że wzrost naprężeń na węzłach o wartość k następuje w czasie k, więc nowa wartość t' to po prostu t+k.\n",
    "\n",
    "Tak skonstruowany model, mimo swojej prostoty, zachowuje się zgodnie z podstawowymi prawami rządzącymi statystyką trzęsień ziemi, np prawem Gutenberga-Richtera, mówiącym, że wielkości trzęsień ziemi są opisane rozkładem potęgowym, czy prawem Omoriego, mówiącym, że prawdopodobieństwo wystąpienia wstrząsów wtórnych oraz ich przewidywana skala w układzie gwałtownie maleją wraz z czasem, który upłynął od wstrząsu pierwotnego "
   ]
  },
  {
   "cell_type": "code",
   "execution_count": null,
   "metadata": {
    "collapsed": true
   },
   "outputs": [],
   "source": [
    "def ofc_update(avalanche,ofc_state,avhistory,t):\n",
    "    retain = 0.25\n",
    "    if not avalanche:\n",
    "        kmax = np.amax(ofc_state)\n",
    "        ofc_state += (1 -kmax)\n",
    "        t += (1-kmax)\n",
    "        avalanche = True\n",
    "        avhistory = np.zeros(ofc_state.shape)\n",
    "        return avalanche, ofc_state, avhistory,t\n",
    "    if avalanche:\n",
    "        mask_state = ofc_state * (ofc_state >= 1)\n",
    "        avhistory = avhistory + (ofc_state >= 1)\n",
    "        roll1 = np.pad(mask_state[1:,:],[(0,1),(0,0)],'constant')\n",
    "        roll2 = np.pad(mask_state[:-1,:],[(1,0),(0,0)],'constant') \n",
    "        roll3 = np.pad(mask_state[:,1:],[(0,0),(0,1)],'constant') \n",
    "        roll4 = np.pad(mask_state[:,:-1],[(0,0),(1,0)],'constant')\n",
    "        critsites = retain*(roll1+roll2+roll3+roll4)\n",
    "        ofc_state[ofc_state>=1]=0\n",
    "        ofc_state += critsites\n",
    "        if np.amax(ofc_state) < 1:\n",
    "            avalanche = False\n",
    "        return avalanche, ofc_state, avhistory,t"
   ]
  },
  {
   "cell_type": "code",
   "execution_count": null,
   "metadata": {
    "collapsed": true
   },
   "outputs": [],
   "source": [
    "def updatefig(i):\n",
    "    global avalanche\n",
    "    global ofc_state\n",
    "    global avhistory\n",
    "    global avmags\n",
    "    global aftershocks\n",
    "    global t\n",
    "    avalanche,ofc_state,avhistory,t = ofc_update(avalanche,ofc_state,avhistory,t)\n",
    "    if not avalanche:\n",
    "        avmag = int(np.sum(avhistory))\n",
    "        ofc_avmags[:avmag] += 1\n",
    "        aftershocks_t.append(t)\n",
    "        aftershocks_m.append(avmag)\n",
    "    im1.set_array(ofc_state)\n",
    "    im2.set_array(avhistory)  \n",
    "    plot1.set_data(aftershocks_t[-10:],aftershocks_m[-10:])\n",
    "    ax3.set_ylim([0,np.amax(aftershocks_m[-10:])+1])\n",
    "    ax3.set_xlim([np.amin(aftershocks_t[-10:])-0.001,np.amax(aftershocks_t[-10:])+0.001])\n",
    "    plot2.set_ydata(ofc_avmags)\n",
    "    ax4.set_ylim([0,np.amax(ofc_avmags)+1])\n",
    "    return (im1,im2,plot1,ax1,plot2,ax2,)"
   ]
  },
  {
   "cell_type": "raw",
   "metadata": {},
   "source": [
    "Na poniższej animacji możemy obserwować aktualny stan układu, obszar i skalę aktualnego trzęsienia ziemi, wielkości i czasy ostatnich dziesięciu trzęsień (przy czym nie ma gwarancji, że zaobserwujemy tu zależność zgodną z prawem Omoriego. Wstrząsem wtórnym nazywamy trzęsienie ziemi zachodzące na tym samym obszarze, co wstrząsy pierwotne - natomiast na wykresie mogą być zaznaczone następujące po sobie trzęsienia z dwóch niezależnych obszarów wykresu)"
   ]
  },
  {
   "cell_type": "code",
   "execution_count": null,
   "metadata": {
    "scrolled": true
   },
   "outputs": [],
   "source": [
    "L = 20\n",
    "ofc_state = np.random.rand(L,L)\n",
    "avhistory = np.zeros(ofc_state.shape)\n",
    "avalanche = False\n",
    "ofc_avmags = np.zeros(500)\n",
    "aftershocks_t=[0]\n",
    "aftershocks_m=[0]\n",
    "t=0\n",
    "\n",
    "plt.close()\n",
    "fig = plt.figure()\n",
    "ax1 = plt.subplot2grid((2,2),(0,0))\n",
    "ax1.set_title('Stan Układu')\n",
    "ax1.tick_params(axis='both', which='both', bottom='off', top='off', right='off',left='off', labelbottom='off', labelleft = 'off')\n",
    "im1 = plt.imshow(ofc_state, animated=True, cmap='plasma', interpolation='none')\n",
    "ax2 = plt.subplot2grid((2,2),(0,1))\n",
    "ax2.set_title('Obszar lawiny')\n",
    "ax2.tick_params(axis='both', which='both', bottom='off', top='off', right='off',left='off', labelbottom='off', labelleft = 'off')\n",
    "im2 = plt.imshow(ofc_state, animated=True, cmap='plasma', interpolation='none', vmax=4)\n",
    "ax3 = plt.subplot2grid((2,2),(1,0))\n",
    "plot1, = plt.plot([],[],'bx ')\n",
    "ax3.set_xlim(0,2)\n",
    "ax3.set_ylim(0,15)\n",
    "ax3.set_title('Rozkład wielkości trzęsień')\n",
    "ax3.set_ylabel('Skala trzęsienia')\n",
    "ax3.set_xlabel('Czas')\n",
    "ax4 = plt.subplot2grid((2,2),(1,1))\n",
    "ax4.set_title('Rozkład wielkości trzęsień')\n",
    "ax4.set_ylabel('Ilość wystąpień')\n",
    "ax4.set_xlabel('Skala trzęsienia')\n",
    "plot2, = plt.plot(np.random.rand(500),'bx ')\n",
    "\n",
    "anim = animation.FuncAnimation(fig, updatefig, frames='none', interval=100)\n",
    "plt.show()"
   ]
  },
  {
   "cell_type": "raw",
   "metadata": {},
   "source": [
    "Model Bak-Sneppen\n",
    "\n",
    "Ten model naśladuje równoległą ewolucję wzajemnie zależnych od siebie gatunków w zamkniętym ekosystemie. \n",
    "\n",
    "Składa się z jednowymiarowego pierścienia, na którym każdy węzeł odpowiada jednemu gatunkowi, określonemu przez pewną wartość przystosowania do niszy, którą zajmuje w ekosystemie.\n",
    "\n",
    "Co krok algorytmu, najsłabszy z gatunków zostaje zastąpiony innym, posiadającym losową wartość przystosowania. Równocześnie najbliżsi sąsiedzi również zostają zastąpieni. To proste oddziaływanie ma modelować fakt, że wymarcie gatunku, czy też wytworzenie przez niego nowego przystosowania, wpływa również na gatunki zależne od niego - na przykład jego naturalnych drapieżników. \n",
    "\n",
    "Model posiada również globalną zmienną wskazującą na ogólne przystosowania wszystkich gatunków wchodzących w skład ekosystemu. Wartość tej zmiennej równa się najwyższej wartości przystosowania, jaką dotychczas osiągnął najsłabszy gatunek w skosystemie.\n",
    "\n",
    "Kiedy wartość przystosowania chociaż jednego gatunku spadnie poniżej tej wartości progowej, uznajemy, że rozpoczyna się kaskada wymierań, która trwa do momentu, w którym wszystkie gatunki znowu będą miały wartości przystosowania co najmniej równe wartości progowej. Okazuje się, że długości takich kaskad również są opisane rozkładem potęgowym.\n",
    "\n",
    "Model Bak-Sneppen w prosty sposób obrazuje np. dynamikę masowych wymierań, których ślady da się znaleźć w zapisie kopalnym. Pokazuje też, że nawet bez z góry narzuconego kierunku, w którym miałyby się rozwijać gatunki (zauważmy, że jedyną zasadą jest to, że jako pierwszy zmienia swoją wartość przystosowania najsłabszy gatunek - ale nie jest zagwarantowane, że nowa wartość będzie wyższa od starej) układ jako całość w dłuższej skali czasowej zmierza ku wyższym wartościom przystosowania, jak w przypadku rzeczywistej ewolucji biologicznej. "
   ]
  },
  {
   "cell_type": "code",
   "execution_count": null,
   "metadata": {
    "collapsed": true
   },
   "outputs": [],
   "source": [
    "def bs_update(avalanche,bs_state,threshold,avlength):\n",
    "    avlength+=1\n",
    "    fmin = np.amin(bs_state)\n",
    "    i, = np.where(bs_state == fmin)\n",
    "    changed=[(i[0]+1)%bs_state.shape[0],i[0],i[0]-1]\n",
    "    bs_state[changed] = np.random.rand()\n",
    "    if np.amin(bs_state) < threshold:\n",
    "        avalanche = True\n",
    "        return avalanche,bs_state,threshold,changed,avlength\n",
    "    else:\n",
    "        threshold = np.amin(bs_state)\n",
    "        avalanche = False\n",
    "        return avalanche,bs_state,threshold,changed,avlength"
   ]
  },
  {
   "cell_type": "code",
   "execution_count": null,
   "metadata": {
    "collapsed": true
   },
   "outputs": [],
   "source": [
    "def updatefig(i):\n",
    "    global avalanche\n",
    "    global bs_state\n",
    "    global threshold\n",
    "    global avlength\n",
    "    global avmags\n",
    "    global pophistory\n",
    "    avalanche,bs_state,threshold,changed,avlength = bs_update(avalanche,bs_state,threshold,avlength)\n",
    "    pophistory[:-1,:] = pophistory[1:,:]\n",
    "    pophistory[-1,:] = pophistory[-1,:] + 1\n",
    "    pophistory[-1,changed] = 0\n",
    "    if not avalanche:\n",
    "        bs_avmags[:avlength] += 1\n",
    "        avlength = 1\n",
    "    line.set_ydata(bs_state)\n",
    "    line2.set_ydata(threshold)\n",
    "    im2.set_array(pophistory)\n",
    "    plot1.set_ydata(bs_avmags)\n",
    "    ax3.set_ylim([0,np.amax(bs_avmags)+1])\n",
    "    return (line,line2,im2,ax3,plot1,)"
   ]
  },
  {
   "cell_type": "raw",
   "metadata": {},
   "source": [
    "Na poniższej animacji, na wykresie po lewej możemy obserwować aktualne wartości przystosowań poszczególnych gatunków i wartość progową dla całego układu. Wykres po prawej przedstawia natomiast historię układu - każda kolumna odpowiada jednemu gatunkowi, a rząd kolejnemu krokowi algorytmu. Im gatunek jest starszy (to znaczy, im więcej kroków minęło od czasu, kiedy ostatnio nastąpiła zmiana jego wartości przystosowania), tym bliżej fioletu jest jego kolor - natomiast nieciągłości odpowiadają momentom, w których gatunek się zmienia. W późniejszych momentach trwania symulacji można zaobserwować, jak wydarzenia z masowym wymieraniem rozprzestrzeniają się kaskadą po całym ekosystemie."
   ]
  },
  {
   "cell_type": "code",
   "execution_count": null,
   "metadata": {
    "collapsed": true
   },
   "outputs": [],
   "source": [
    "L = 200\n",
    "bs_state = np.random.rand(L)\n",
    "threshold = 0\n",
    "avalanche = False\n",
    "bs_avmags = np.zeros(500)\n",
    "avlength = 0\n",
    "pophistory = np.zeros((1000,L))\n",
    "\n",
    "plt.close()\n",
    "fig = plt.figure()\n",
    "ax1 = plt.subplot2grid((2,2),(0,0))\n",
    "ax1.set_title('Stan Układu')\n",
    "ax1.set_ylabel('Wartość przystosowania')\n",
    "ax1.set_xlabel('Gatunki')\n",
    "line,=plt.plot(bs_state,'bx ')\n",
    "line2 = plt.axhline(threshold,color='r')\n",
    "ax2 = plt.subplot2grid((2,2),(0,1))\n",
    "ax2.set_title('Historia Układu')\n",
    "ax2.set_ylabel('Czas')\n",
    "ax2.set_xlabel('Gatunki')\n",
    "im2=plt.imshow(np.random.rand(1000,L), animated='True', cmap='plasma_r', interpolation='bilinear',aspect='auto',vmax=1000)\n",
    "ax3 = plt.subplot2grid((2,2),(1,0),colspan=2)\n",
    "ax3.set_title('Rozkład wielkości kaskad')\n",
    "ax3.set_ylabel('Ilość wystąpień')\n",
    "ax3.set_xlabel('Skala kaskady')\n",
    "plot1, = plt.plot(np.random.rand(500),'bx ')\n",
    "\n",
    "anim = animation.FuncAnimation(fig, updatefig, frames='none', interval=100)\n",
    "plt.show()"
   ]
  },
  {
   "cell_type": "raw",
   "metadata": {},
   "source": [
    "Poniżej generowane są wykresy, obrazujące rozkład wielkości kaskad dla obu modeli na skali podwójnie logarytmicznej. Im większa ilość iteracji, tym dokładniej oba z nich powinny układać się w linię prostą"
   ]
  },
  {
   "cell_type": "code",
   "execution_count": null,
   "metadata": {},
   "outputs": [],
   "source": [
    "def runboth(iterations,bs_L,ofc_L):\n",
    "    bs_state = np.random.rand(bs_L)\n",
    "    ofc_state = np.random.rand(ofc_L,ofc_L)\n",
    "    bs_avalanche = False\n",
    "    ofc_avalanche = False\n",
    "    threshold = 0\n",
    "    avlength = 0\n",
    "    avhistory = np.zeros(ofc_state.shape)\n",
    "    bs_avmags = np.zeros(1000000)\n",
    "    ofc_avmags = np.zeros(1000000)\n",
    "    t = 0\n",
    "    while True:\n",
    "        if np.sum(bs_avmags) >= iterations and np.sum(ofc_avmags) >= iterations:\n",
    "            break\n",
    "        if np.sum(bs_avmags) < iterations:\n",
    "            bs_avalanche,bs_state,threshold,changed,avlength = bs_update(bs_avalanche,bs_state,threshold,avlength)\n",
    "            if not bs_avalanche:\n",
    "                bs_avmags[:avlength] += 1\n",
    "                avlength = 1\n",
    "        if np.sum(ofc_avmags) < iterations:    \n",
    "            ofc_avalanche,ofc_state,avhistory,t = ofc_update(ofc_avalanche,ofc_state,avhistory,t)\n",
    "            if not ofc_avalanche:\n",
    "                avmag = int(np.sum(avhistory))\n",
    "                ofc_avmags[:avmag] += 1\n",
    "    return ofc_avmags,bs_avmags\n",
    "ofc_avmags, bs_avmags = runboth(10000,2500,30)"
   ]
  },
  {
   "cell_type": "code",
   "execution_count": null,
   "metadata": {
    "collapsed": true
   },
   "outputs": [],
   "source": [
    "def index_of_last_nonzero(lst):\n",
    "    for i, value in enumerate(reversed(lst)):\n",
    "        if value != 0:\n",
    "            return len(lst)-i-1\n",
    "    return -1\n",
    "bs_avmags = bs_avmags[:index_of_last_nonzero(bs_avmags)]\n",
    "ofc_avmags = ofc_avmags[:index_of_last_nonzero(ofc_avmags)]"
   ]
  },
  {
   "cell_type": "code",
   "execution_count": null,
   "metadata": {
    "collapsed": true
   },
   "outputs": [],
   "source": [
    "fig = plt.figure()\n",
    "ax1 = plt.subplot2grid((1,2),(0,0))\n",
    "plt.loglog(ofc_avmags,'bx ')\n",
    "ax1.set_title('Olami-Feder-Christensen')\n",
    "ax1.set_ylabel('Ilość wystąpień')\n",
    "ax1.set_xlabel('Skala kaskady')\n",
    "ax2 = plt.subplot2grid((1,2),(0,1))\n",
    "plt.loglog(bs_avmags,'bx ')\n",
    "ax2.set_title('Bak-Sneppen')\n",
    "ax2.set_ylabel('Ilość wystąpień')\n",
    "ax2.set_xlabel('Skala kaskady')\n",
    "plt.show()"
   ]
  },
  {
   "cell_type": "code",
   "execution_count": null,
   "metadata": {
    "collapsed": true
   },
   "outputs": [],
   "source": [
    "fig.savefig('crits.png')"
   ]
  }
 ],
 "metadata": {
  "kernelspec": {
   "display_name": "Python 3",
   "language": "python",
   "name": "python3"
  },
  "language_info": {
   "codemirror_mode": {
    "name": "ipython",
    "version": 3
   },
   "file_extension": ".py",
   "mimetype": "text/x-python",
   "name": "python",
   "nbconvert_exporter": "python",
   "pygments_lexer": "ipython3",
   "version": "3.6.1"
  }
 },
 "nbformat": 4,
 "nbformat_minor": 2
}
