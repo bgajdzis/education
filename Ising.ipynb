{
 "cells": [
  {
   "cell_type": "code",
   "execution_count": null,
   "metadata": {
    "collapsed": true
   },
   "outputs": [],
   "source": [
    "%matplotlib nbagg\n",
    "import numpy as np\n",
    "import matplotlib.pyplot as plt\n",
    "from matplotlib import animation, rc\n",
    "from IPython.display import HTML, display\n",
    "import matplotlib.image as img\n",
    "\n",
    "plt.ioff()"
   ]
  },
  {
   "cell_type": "code",
   "execution_count": null,
   "metadata": {
    "collapsed": true
   },
   "outputs": [],
   "source": [
    "def is_energy(is_grid,J,h):\n",
    "    e = -1 * J * (np.sum(np.multiply(is_grid,np.roll(is_grid,1,0)))+np.sum(np.sum(np.multiply(is_grid,np.roll(is_grid,1,1))))) - np.sum(h * is_grid)\n",
    "    return e\n",
    "def magnetization(is_grid):\n",
    "    return np.abs(np.sum(is_grid)/(is_grid.shape[0]*is_grid.shape[1]))\n",
    "def is_update(is_grid,J,h,temp):\n",
    "    grid_candidate = is_grid.copy()\n",
    "    x = np.random.randint(grid_candidate.shape[0])\n",
    "    y = np.random.randint(grid_candidate.shape[1])\n",
    "    grid_candidate[x][y] = -1* grid_candidate[x][y] \n",
    "    delta_e = is_energy(grid_candidate,J,h) - is_energy(is_grid,J,h)\n",
    "    if delta_e < 0:     \n",
    "        is_grid = grid_candidate\n",
    "    elif np.random.rand() < np.exp(-1*delta_e/temp):\n",
    "        is_grid = grid_candidate\n",
    "    return is_grid\n",
    "def updatefig(i):\n",
    "    global is_grid\n",
    "    is_grid = is_update(is_grid,J,h,temp)\n",
    "    if i % 1000 == 0:\n",
    "        pass\n",
    "    plot.set_array(is_grid)\n",
    "    return plot\n",
    "def thermalize(is_grid,J,h,temp,N):\n",
    "    for n in range(N):\n",
    "        is_grid = is_update(is_grid,J,h,temp)\n",
    "        if n % 1000 == 0:\n",
    "            pass\n",
    "    return is_grid\n",
    "def measure(is_grid,J,h,temp,N,Td):\n",
    "    e = []\n",
    "    e2 = []\n",
    "    M = []\n",
    "    M2 =[]\n",
    "    for n in range(N):\n",
    "        is_grid = is_update(is_grid,J,h,temp)\n",
    "        if n % Td == 0:\n",
    "            e.append(is_energy(is_grid,J,h))\n",
    "            e2.append(np.power(is_energy(is_grid,J,h),2))\n",
    "            M.append(magnetization(is_grid))\n",
    "            M2.append(np.power(magnetization(is_grid),2))\n",
    "        energy = np.average(e)\n",
    "        avg_magnetization = np.average(M)\n",
    "        capacity = np.average(e2)-np.power(np.average(e),2)\n",
    "        susceptibility = np.average(M2)-np.power(np.average(M),2)\n",
    "    return energy,avg_magnetization,susceptibility,capacity"
   ]
  },
  {
   "cell_type": "code",
   "execution_count": null,
   "metadata": {
    "collapsed": true
   },
   "outputs": [],
   "source": [
    "L = 30\n",
    "is_grid = np.random.choice([-1,1],(L,L))\n",
    "\n",
    "temp = 0.5\n",
    "h = 0\n",
    "J = 1\n",
    "\n",
    "fig = plt.figure()\n",
    "plot = plt.imshow(is_grid,cmap='bwr',interpolation='none')\n",
    "anim = animation.FuncAnimation(fig,updatefig, frames = 10000, interval = 1, repeat=False)\n",
    "plt.show()"
   ]
  },
  {
   "cell_type": "code",
   "execution_count": null,
   "metadata": {
    "scrolled": true
   },
   "outputs": [],
   "source": [
    "e = []\n",
    "M = []\n",
    "H = []\n",
    "Cp = []\n",
    "h = 0\n",
    "J = 1\n",
    "L = 25\n",
    "temps = np.linspace(0.3,3.55,17)\n",
    "for temp in temps:\n",
    "    print(temp)\n",
    "    is_grid = np.random.choice([-1,1],(L,L))\n",
    "    is_grid = thermalize(is_grid,J,h,temp,1000000)\n",
    "    ev,Mv,Hv,Cpv = measure(is_grid,J,h,temp,1000000,1000)\n",
    "    e.append(ev)\n",
    "    M.append(Mv)\n",
    "    H.append(Hv)\n",
    "    Cp.append(Cpv)"
   ]
  },
  {
   "cell_type": "code",
   "execution_count": null,
   "metadata": {
    "collapsed": true
   },
   "outputs": [],
   "source": [
    "fig = plt.figure()\n",
    "fig.suptitle('Właściwości statystyczne układu w funkcji temperatury')\n",
    "ax1 =plt.subplot2grid((2,2),(0,0))\n",
    "ax1.set_title('Energia')\n",
    "ax1.set_ylabel('Energia')\n",
    "ax1.set_xlabel('Temperatura')\n",
    "plot1 = plt.plot(temps,e)\n",
    "ax2 = plt.subplot2grid((2,2),(0,1))\n",
    "ax2.set_title('Magnetyzacja')\n",
    "ax2.set_ylabel('Magnetyzacja')\n",
    "ax2.set_xlabel('Temperatura')\n",
    "plot2 = plt.plot(temps,M)\n",
    "ax3 = plt.subplot2grid((2,2),(1,0))\n",
    "ax3.set_title('Podatność magnetyczna')\n",
    "ax3.set_ylabel('Podatność magnetyczna')\n",
    "ax3.set_xlabel('Temperatura')\n",
    "plot3 = plt.plot(temps,H)\n",
    "ax4 = plt.subplot2grid((2,2),(1,1))\n",
    "plot4 = plt.plot(temps,Cp)\n",
    "ax4.set_title('Ciepło właściwe')\n",
    "ax4.set_ylabel('Ciepło właściwe')\n",
    "ax4.set_xlabel('Temperatura')\n",
    "plt.tight_layout()\n",
    "plt.subplots_adjust(top=0.85)\n",
    "plt.show()"
   ]
  },
  {
   "cell_type": "code",
   "execution_count": null,
   "metadata": {
    "collapsed": true
   },
   "outputs": [],
   "source": [
    "fig.savefig('ising.png',dpi=800)"
   ]
  },
  {
   "cell_type": "raw",
   "metadata": {},
   "source": [
    "Generacja wyników może trwać bardzo długo, zamiast tego możemy wczytać gotowe wykresy"
   ]
  },
  {
   "cell_type": "code",
   "execution_count": null,
   "metadata": {
    "collapsed": true
   },
   "outputs": [],
   "source": [
    "im = img.imread('ising.png')\n",
    "plt.figure()\n",
    "plt.imshow(im)\n",
    "plt.show()"
   ]
  }
 ],
 "metadata": {
  "kernelspec": {
   "display_name": "Python 3",
   "language": "python",
   "name": "python3"
  },
  "language_info": {
   "codemirror_mode": {
    "name": "ipython",
    "version": 3
   },
   "file_extension": ".py",
   "mimetype": "text/x-python",
   "name": "python",
   "nbconvert_exporter": "python",
   "pygments_lexer": "ipython3",
   "version": "3.6.1"
  }
 },
 "nbformat": 4,
 "nbformat_minor": 2
}
